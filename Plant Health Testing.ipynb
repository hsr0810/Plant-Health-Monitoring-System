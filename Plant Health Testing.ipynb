{
 "cells": [
  {
   "cell_type": "markdown",
   "id": "084ca639",
   "metadata": {},
   "source": [
    "# Testing of a Single Image"
   ]
  },
  {
   "cell_type": "code",
   "execution_count": 2,
   "id": "a8908f6b",
   "metadata": {},
   "outputs": [],
   "source": [
    "import os\n",
    "import numpy as np\n",
    "from PIL import Image\n",
    "import tensorflow as tf\n",
    "from tensorflow.keras import layers, models"
   ]
  },
  {
   "cell_type": "code",
   "execution_count": 3,
   "id": "21ec51cc",
   "metadata": {},
   "outputs": [
    {
     "name": "stdout",
     "output_type": "stream",
     "text": [
      "1/1 [==============================] - 1s 1s/step\n",
      "The plant in the image is unhealthy.\n"
     ]
    }
   ],
   "source": [
    "def load_and_preprocess_image(image_path):\n",
    "    img = Image.open(image_path)\n",
    "    img = img.resize((64, 64))  \n",
    "    img = np.array(img) / 255.0  \n",
    "    return img.reshape(1, 64, 64, 3)  \n",
    "\n",
    "model = tf.keras.models.load_model('model.h5')  \n",
    "\n",
    "image_path = r'D:\\\\IOT\\\\2.jpeg'  \n",
    "\n",
    "image = load_and_preprocess_image(image_path)\n",
    "\n",
    "prediction = model.predict(image)\n",
    "\n",
    "if prediction < 0.5:\n",
    "    print(\"The plant in the image is unhealthy.\")\n",
    "else:\n",
    "    print(\"The plant in the image is healthy.\")"
   ]
  },
  {
   "cell_type": "markdown",
   "id": "19889ef5",
   "metadata": {},
   "source": [
    "# Testing from a folder"
   ]
  },
  {
   "cell_type": "code",
   "execution_count": 13,
   "id": "235a5f09",
   "metadata": {},
   "outputs": [],
   "source": [
    "import os\n",
    "import numpy as np\n",
    "import tensorflow as tf\n",
    "from PIL import Image"
   ]
  },
  {
   "cell_type": "code",
   "execution_count": 14,
   "id": "05664471",
   "metadata": {},
   "outputs": [
    {
     "name": "stdout",
     "output_type": "stream",
     "text": [
      "1/1 [==============================] - 0s 210ms/step\n",
      "1.jpg: The plant in the image is healthy.\n",
      "1/1 [==============================] - 0s 62ms/step\n",
      "10.jpg: The plant in the image is unhealthy.\n",
      "1/1 [==============================] - 0s 65ms/step\n",
      "11.jpg: The plant in the image is unhealthy.\n",
      "1/1 [==============================] - 0s 62ms/step\n",
      "12.jpg: The plant in the image is unhealthy.\n",
      "1/1 [==============================] - 0s 79ms/step\n",
      "13.jpg: The plant in the image is unhealthy.\n",
      "1/1 [==============================] - 0s 63ms/step\n",
      "14.jpg: The plant in the image is unhealthy.\n",
      "1/1 [==============================] - 0s 63ms/step\n",
      "15.jpg: The plant in the image is healthy.\n",
      "1/1 [==============================] - 0s 48ms/step\n",
      "16.jpg: The plant in the image is unhealthy.\n",
      "1/1 [==============================] - 0s 64ms/step\n",
      "17.jpg: The plant in the image is unhealthy.\n",
      "1/1 [==============================] - 0s 53ms/step\n",
      "18.jpg: The plant in the image is unhealthy.\n",
      "1/1 [==============================] - 0s 47ms/step\n",
      "2.jpg: The plant in the image is unhealthy.\n",
      "1/1 [==============================] - 0s 62ms/step\n",
      "3.jpg: The plant in the image is healthy.\n",
      "1/1 [==============================] - 0s 81ms/step\n",
      "4.jpg: The plant in the image is healthy.\n",
      "1/1 [==============================] - 0s 62ms/step\n",
      "5.jpg: The plant in the image is unhealthy.\n",
      "1/1 [==============================] - 0s 59ms/step\n",
      "6.jpg: The plant in the image is healthy.\n",
      "1/1 [==============================] - 0s 47ms/step\n",
      "7.jpg: The plant in the image is unhealthy.\n",
      "1/1 [==============================] - 0s 55ms/step\n",
      "8.jpg: The plant in the image is unhealthy.\n",
      "1/1 [==============================] - 0s 64ms/step\n",
      "9.jpg: The plant in the image is unhealthy.\n"
     ]
    }
   ],
   "source": [
    "def load_and_preprocess_image(image_path):\n",
    "    img = Image.open(image_path)\n",
    "    img = img.resize((64, 64))  \n",
    "    img = np.array(img) / 255.0  \n",
    "    return img.reshape(1, 64, 64, 3)  \n",
    "\n",
    "model = tf.keras.models.load_model('model.h5')  \n",
    "\n",
    "folder_path = r'C:\\Users\\User\\Downloads\\ROS\\Project\\CNN\\Testing'  # Change this to the path of your image folder\n",
    "\n",
    "for filename in os.listdir(folder_path):\n",
    "    if filename.endswith(('.jpg', '.jpeg', '.png')):  # Assuming your images have these extensions\n",
    "        image_path = os.path.join(folder_path, filename)\n",
    "        image = load_and_preprocess_image(image_path)\n",
    "        prediction = model.predict(image)\n",
    "        if prediction < 0.5:\n",
    "            print(f\"{filename}: The plant in the image is unhealthy.\")\n",
    "        else:\n",
    "            print(f\"{filename}: The plant in the image is healthy.\")"
   ]
  },
  {
   "cell_type": "code",
   "execution_count": null,
   "id": "782c5c80",
   "metadata": {},
   "outputs": [],
   "source": []
  }
 ],
 "metadata": {
  "kernelspec": {
   "display_name": "Python 3 (ipykernel)",
   "language": "python",
   "name": "python3"
  },
  "language_info": {
   "codemirror_mode": {
    "name": "ipython",
    "version": 3
   },
   "file_extension": ".py",
   "mimetype": "text/x-python",
   "name": "python",
   "nbconvert_exporter": "python",
   "pygments_lexer": "ipython3",
   "version": "3.11.4"
  }
 },
 "nbformat": 4,
 "nbformat_minor": 5
}
