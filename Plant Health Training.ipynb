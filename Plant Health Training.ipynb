{
 "cells": [
  {
   "cell_type": "code",
   "execution_count": 2,
   "id": "f9919106",
   "metadata": {},
   "outputs": [],
   "source": [
    "import os\n",
    "import numpy as np\n",
    "from PIL import Image\n",
    "import tensorflow as tf\n",
    "from tensorflow.keras import layers, models"
   ]
  },
  {
   "cell_type": "code",
   "execution_count": 3,
   "id": "868f8174",
   "metadata": {},
   "outputs": [],
   "source": [
    "def load_and_preprocess_images(folder_path, label):\n",
    "    images = []\n",
    "    labels = []\n",
    "    for image_name in os.listdir(folder_path):\n",
    "        image_path = os.path.join(folder_path, image_name)\n",
    "        img = Image.open(image_path)\n",
    "        img = img.resize((64, 64))  # Resize to match the input shape of the model\n",
    "        img = np.array(img) / 255.0  # Normalize pixel values to [0, 1]\n",
    "        images.append(img)\n",
    "        labels.append(label)  # Assign label to images in this folder\n",
    "    return np.array(images), np.array(labels)"
   ]
  },
  {
   "cell_type": "code",
   "execution_count": 4,
   "id": "d3f5a4ce",
   "metadata": {},
   "outputs": [],
   "source": [
    "# Define the paths to your two folders\n",
    "folder1_path = r'C:\\Users\\User\\Downloads\\Plant_Health\\Unhealthy Data'\n",
    "folder2_path = r'C:\\Users\\User\\Downloads\\Plant_Health\\Healthy Data'\n",
    "\n",
    "images_folder1, labels_folder1 = load_and_preprocess_images(folder1_path, label=0)\n",
    "images_folder2, labels_folder2 = load_and_preprocess_images(folder2_path, label=1)\n",
    "\n",
    "train_images = np.concatenate((images_folder1, images_folder2), axis=0)\n",
    "train_labels = np.concatenate((labels_folder1, labels_folder2), axis=0) "
   ]
  },
  {
   "cell_type": "code",
   "execution_count": 5,
   "id": "582eaa24",
   "metadata": {},
   "outputs": [],
   "source": [
    "model = models.Sequential([\n",
    "    layers.Conv2D(32, (3,3), activation='relu', input_shape=(64, 64, 3)),\n",
    "    layers.MaxPooling2D((2,2)),\n",
    "    layers.Conv2D(64, (3,3), activation='relu'),\n",
    "    layers.MaxPooling2D((2,2)),\n",
    "    layers.Conv2D(64, (3,3), activation='relu')\n",
    "])\n",
    "\n",
    "model.add(layers.Flatten())\n",
    "model.add(layers.Dense(64, activation='relu'))\n",
    "model.add(layers.Dense(1, activation='sigmoid'))  "
   ]
  },
  {
   "cell_type": "code",
   "execution_count": 6,
   "id": "49a40d07",
   "metadata": {},
   "outputs": [
    {
     "name": "stdout",
     "output_type": "stream",
     "text": [
      "Epoch 1/5\n",
      "26/26 [==============================] - 6s 120ms/step - loss: 0.6428 - accuracy: 0.6420 - val_loss: 0.5986 - val_accuracy: 0.8030\n",
      "Epoch 2/5\n",
      "26/26 [==============================] - 3s 98ms/step - loss: 0.4699 - accuracy: 0.8062 - val_loss: 0.2905 - val_accuracy: 0.9261\n",
      "Epoch 3/5\n",
      "26/26 [==============================] - 3s 103ms/step - loss: 0.3723 - accuracy: 0.8457 - val_loss: 0.4022 - val_accuracy: 0.7980\n",
      "Epoch 4/5\n",
      "26/26 [==============================] - 3s 118ms/step - loss: 0.2996 - accuracy: 0.8840 - val_loss: 0.8267 - val_accuracy: 0.6897\n",
      "Epoch 5/5\n",
      "26/26 [==============================] - 3s 121ms/step - loss: 0.2605 - accuracy: 0.8975 - val_loss: 1.0782 - val_accuracy: 0.6256\n"
     ]
    },
    {
     "name": "stderr",
     "output_type": "stream",
     "text": [
      "C:\\Users\\User\\anaconda3\\Lib\\site-packages\\keras\\src\\engine\\training.py:3079: UserWarning: You are saving your model as an HDF5 file via `model.save()`. This file format is considered legacy. We recommend using instead the native Keras format, e.g. `model.save('my_model.keras')`.\n",
      "  saving_api.save_model(\n"
     ]
    }
   ],
   "source": [
    "model.compile(optimizer='adam',\n",
    "              loss='binary_crossentropy',  \n",
    "              metrics=['accuracy'])\n",
    "\n",
    "history = model.fit(train_images, train_labels, epochs=5, validation_split=0.2)\n",
    "model.save('model.h5')"
   ]
  },
  {
   "cell_type": "code",
   "execution_count": 10,
   "id": "12dd6126",
   "metadata": {},
   "outputs": [
    {
     "name": "stdout",
     "output_type": "stream",
     "text": [
      "Training Accuracy: 89.75308537483215\n"
     ]
    }
   ],
   "source": [
    "training_accuracy = history.history['accuracy'][-1]\n",
    "print(\"Training Accuracy:\", training_accuracy * 100)"
   ]
  },
  {
   "cell_type": "code",
   "execution_count": null,
   "id": "176b8e15",
   "metadata": {},
   "outputs": [],
   "source": []
  },
  {
   "cell_type": "code",
   "execution_count": null,
   "id": "094ceb8d",
   "metadata": {},
   "outputs": [],
   "source": []
  }
 ],
 "metadata": {
  "kernelspec": {
   "display_name": "Python 3 (ipykernel)",
   "language": "python",
   "name": "python3"
  },
  "language_info": {
   "codemirror_mode": {
    "name": "ipython",
    "version": 3
   },
   "file_extension": ".py",
   "mimetype": "text/x-python",
   "name": "python",
   "nbconvert_exporter": "python",
   "pygments_lexer": "ipython3",
   "version": "3.11.4"
  }
 },
 "nbformat": 4,
 "nbformat_minor": 5
}
